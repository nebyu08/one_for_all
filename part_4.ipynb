{
 "cells": [
  {
   "cell_type": "markdown",
   "id": "f5aee4ad-4956-48ad-88c3-92071e10628e",
   "metadata": {},
   "source": [
    "# implementing loss value calculation "
   ]
  },
  {
   "cell_type": "code",
   "execution_count": 1,
   "id": "80b18e09-e0de-409b-8bbf-bd9df6d6136c",
   "metadata": {},
   "outputs": [],
   "source": [
    "import numpy as np\n",
    "import math"
   ]
  },
  {
   "cell_type": "markdown",
   "id": "c0aef478-9176-4329-bb51-905a90bdb42b",
   "metadata": {},
   "source": [
    "# categorical cross entropy loss"
   ]
  },
  {
   "cell_type": "code",
   "execution_count": 2,
   "id": "75abe0d8-a375-4804-8da5-e06916be90f1",
   "metadata": {},
   "outputs": [
    {
     "name": "stdout",
     "output_type": "stream",
     "text": [
      "0.35667494393873245\n"
     ]
    }
   ],
   "source": [
    "predicted=[0.7,0.2,0.1]\n",
    "actual=[1,0,0]\n",
    "\n",
    "loss=0\n",
    "for i in range(len(predicted)):\n",
    "    loss+=(math.log(predicted[i])*actual[i])\n",
    "\n",
    "loss*=-1\n",
    "print(loss)"
   ]
  },
  {
   "cell_type": "code",
   "execution_count": 3,
   "id": "bc82e742-0e89-4fdd-bc3e-3b0544e59b45",
   "metadata": {},
   "outputs": [
    {
     "name": "stdout",
     "output_type": "stream",
     "text": [
      "0.0\n",
      "-0.10536051565782628\n",
      "-0.6931471805599453\n",
      "-1.2039728043259361\n"
     ]
    }
   ],
   "source": [
    "print(math.log(1))\n",
    "print(math.log(0.9))\n",
    "print(math.log(0.5))\n",
    "print(math.log(0.3))"
   ]
  },
  {
   "cell_type": "code",
   "execution_count": 4,
   "id": "6f30bf2d-9a4b-4829-a53c-edacede43ea3",
   "metadata": {},
   "outputs": [
    {
     "data": {
      "text/plain": [
       "nan"
      ]
     },
     "execution_count": 4,
     "metadata": {},
     "output_type": "execute_result"
    }
   ],
   "source": [
    "(float('inf')*0)"
   ]
  },
  {
   "cell_type": "code",
   "execution_count": 5,
   "id": "b0bea222-8ed0-460c-9738-66d7e920c84d",
   "metadata": {},
   "outputs": [
    {
     "data": {
      "text/plain": [
       "0.9542425094393249"
      ]
     },
     "execution_count": 5,
     "metadata": {},
     "output_type": "execute_result"
    }
   ],
   "source": [
    "np.log10(9)"
   ]
  },
  {
   "cell_type": "code",
   "execution_count": 6,
   "id": "30020333-1cdb-45d2-a3ce-f026dfb42287",
   "metadata": {},
   "outputs": [
    {
     "data": {
      "text/plain": [
       "2.1972245773362196"
      ]
     },
     "execution_count": 6,
     "metadata": {},
     "output_type": "execute_result"
    }
   ],
   "source": [
    "np.log(9)"
   ]
  },
  {
   "cell_type": "code",
   "execution_count": 7,
   "id": "e3901e46-b940-4a96-a3ea-4178504a0cf0",
   "metadata": {},
   "outputs": [
    {
     "data": {
      "text/plain": [
       "9.00016139037498"
      ]
     },
     "execution_count": 7,
     "metadata": {},
     "output_type": "execute_result"
    }
   ],
   "source": [
    "math.e**2.1972425094393249   # ==> e**9 =2.xxx"
   ]
  },
  {
   "cell_type": "markdown",
   "id": "ec4347d7-72f6-443f-8780-b895550c8b1c",
   "metadata": {},
   "source": [
    "# lets see how to calculte the loss in batches"
   ]
  },
  {
   "cell_type": "code",
   "execution_count": 8,
   "id": "747abc0b-8550-411b-8edf-2b2a2b065e0a",
   "metadata": {},
   "outputs": [
    {
     "name": "stdout",
     "output_type": "stream",
     "text": [
      "[0.7, 0.5, 0.9]\n"
     ]
    }
   ],
   "source": [
    "batch_outputs=[\n",
    "    [0.7,0.2,0.1],\n",
    "    [0.1,0.5,0.4],\n",
    "    [0.02,0.9,0.08]\n",
    "]  #this is a matrix of output probabilites by the model\n",
    "\n",
    "actual_output=[0,1,1]  #this is the value of the index\n",
    "chosen_output=[]\n",
    "for act,pred in zip(actual_output,batch_outputs):\n",
    "    chosen_output.append(pred[act])\n",
    "\n",
    "print(chosen_output)"
   ]
  },
  {
   "cell_type": "code",
   "execution_count": 9,
   "id": "f43d53d7-81d0-4338-a3c7-1aca2713f438",
   "metadata": {},
   "outputs": [
    {
     "name": "stdout",
     "output_type": "stream",
     "text": [
      "0.7\n",
      "0.5\n",
      "0.9\n",
      "new one:[0.7, 0.5, 0.9] \n"
     ]
    }
   ],
   "source": [
    "empty_lists=[]\n",
    "for pred,act in zip(batch_outputs,actual_output):\n",
    "    print(pred[act])\n",
    "    empty_lists.append(pred[act])\n",
    "\n",
    "print(f\"new one:{empty_lists} \")"
   ]
  },
  {
   "cell_type": "code",
   "execution_count": 10,
   "id": "36f5f7df-4059-4700-b1c9-07bb89dddcf3",
   "metadata": {},
   "outputs": [
    {
     "name": "stdout",
     "output_type": "stream",
     "text": [
      "[0.7 0.5 0.9]\n"
     ]
    }
   ],
   "source": [
    "# lets try using numpy for this \n",
    "array_outputs=np.array(batch_outputs)\n",
    "chosen_values=array_outputs[range(len(array_outputs)),actual_output]\n",
    "print(chosen_values)"
   ]
  },
  {
   "cell_type": "code",
   "execution_count": 11,
   "id": "42abcffe-feb4-4ea4-a9bb-0e19872d6efa",
   "metadata": {},
   "outputs": [
    {
     "name": "stdout",
     "output_type": "stream",
     "text": [
      "[0.35667494393873245, 0.6931471805599453, 0.10536051565782628]\n",
      "0.38506088005216804\n"
     ]
    }
   ],
   "source": [
    "#from this lets calculate the categorical cross entropy\n",
    "loss=[]\n",
    "for i in chosen_values:\n",
    "    loss.append(-math.log(i))\n",
    "print(loss)\n",
    "print(np.mean(loss))"
   ]
  },
  {
   "cell_type": "code",
   "execution_count": 12,
   "id": "73d4cd4a-a0a2-4223-b96b-9f6c69e512f0",
   "metadata": {},
   "outputs": [
    {
     "data": {
      "text/plain": [
       "40.666666666666664"
      ]
     },
     "execution_count": 12,
     "metadata": {},
     "output_type": "execute_result"
    }
   ],
   "source": [
    "np.mean([20,12,90])"
   ]
  },
  {
   "cell_type": "markdown",
   "id": "0f8d0855-9c0b-4a53-af99-dbb33063efbf",
   "metadata": {},
   "source": [
    "# implementing the calculation of 2D-actual values"
   ]
  },
  {
   "cell_type": "code",
   "execution_count": 13,
   "id": "e3fe0cfa-9462-4cb3-87ed-9c974392de72",
   "metadata": {},
   "outputs": [
    {
     "name": "stdout",
     "output_type": "stream",
     "text": [
      "[[0.7, 0.2, 0.1], [0.1, 0.5, 0.4], [0.02, 0.9, 0.08]]\n"
     ]
    }
   ],
   "source": [
    "print(batch_outputs)"
   ]
  },
  {
   "cell_type": "code",
   "execution_count": 14,
   "id": "d5c260fb-13d4-4a80-bf97-953de2e03d89",
   "metadata": {},
   "outputs": [],
   "source": [
    "output_softmax=np.array(batch_outputs)\n",
    "actual_values=[\n",
    "    [1,0,0],\n",
    "    [0,1,0],\n",
    "    [0,1,0]\n",
    "]\n",
    "\n",
    "actual_values_a=np.array(actual_values)\n",
    "loss=[]\n",
    "#lets calculate the values here\n",
    "for pred,act in zip(output_softmax,actual_values):\n",
    "    temp_scaler=np.sum(pred*act)\n",
    "    loss.append(-math.log(temp_scaler))"
   ]
  },
  {
   "cell_type": "code",
   "execution_count": 15,
   "id": "3e4b93e2-8c10-434f-bfe1-f4128bfce814",
   "metadata": {},
   "outputs": [
    {
     "data": {
      "text/plain": [
       "array([ 4, 10, 18])"
      ]
     },
     "execution_count": 15,
     "metadata": {},
     "output_type": "execute_result"
    }
   ],
   "source": [
    "t=np.array([1,2,3])\n",
    "t2=np.array([4,5,6])\n",
    "t*t2"
   ]
  },
  {
   "cell_type": "code",
   "execution_count": 16,
   "id": "7a61f721-46ed-4c6c-97ef-6cdb72e66b4a",
   "metadata": {},
   "outputs": [
    {
     "data": {
      "text/plain": [
       "0.38506088005216804"
      ]
     },
     "execution_count": 16,
     "metadata": {},
     "output_type": "execute_result"
    }
   ],
   "source": [
    "np.mean(loss)"
   ]
  },
  {
   "cell_type": "markdown",
   "id": "135201de-19d4-4822-b00d-dd7f0cb63c15",
   "metadata": {},
   "source": [
    "# all inclusive way of calculting the cross entropy loss"
   ]
  },
  {
   "cell_type": "code",
   "execution_count": 17,
   "id": "50b258cb-5c17-443c-bad8-9850a4f2a244",
   "metadata": {},
   "outputs": [
    {
     "data": {
      "text/plain": [
       "(2, 1)"
      ]
     },
     "execution_count": 17,
     "metadata": {},
     "output_type": "execute_result"
    }
   ],
   "source": [
    "len(actual_values_a.shape),len(np.array([1,2,3]).shape)"
   ]
  },
  {
   "cell_type": "code",
   "execution_count": 18,
   "id": "d7ff0a0b-d66e-4288-b1c2-98b092bcf890",
   "metadata": {},
   "outputs": [],
   "source": [
    "def cross_entropy_loss(predicted_values,actual_values):\n",
    "    if len(actual_values.shape)==2:\n",
    "        correctness=np.sum(predicted_values*actual_values,axis=1)\n",
    "    \n",
    "    elif len(actual_values.shape)==1:\n",
    "        #this is is the actual values is given in actual values rather than one hot encoded\n",
    "        correctness=predicted_values[range(len(predicted_values)),actual_values]\n",
    "    \n",
    "    else:\n",
    "        raise Exception(\"check for the shape again.\")\n",
    "    loss=[]\n",
    "    \n",
    "    # for i in correctness:\n",
    "    #     loss.append(-math.log(i))\n",
    "    loss=-np.log(correctness)\n",
    "    avg_loss=np.mean(loss)\n",
    "    return loss,avg_loss"
   ]
  },
  {
   "cell_type": "code",
   "execution_count": 19,
   "id": "e7d40a99-c447-49dc-a94c-7eec90504a3f",
   "metadata": {},
   "outputs": [
    {
     "data": {
      "text/plain": [
       "(array([0.35667494, 0.69314718, 0.10536052]), 0.38506088005216804)"
      ]
     },
     "execution_count": 19,
     "metadata": {},
     "output_type": "execute_result"
    }
   ],
   "source": [
    "cross_entropy_loss(actual_values_a,output_softmax)"
   ]
  },
  {
   "cell_type": "code",
   "execution_count": 20,
   "id": "e52236c4-98ee-4b9a-b446-b7d6818baa9c",
   "metadata": {},
   "outputs": [
    {
     "data": {
      "text/plain": [
       "0.0"
      ]
     },
     "execution_count": 20,
     "metadata": {},
     "output_type": "execute_result"
    }
   ],
   "source": [
    "np.exp(-np.inf)"
   ]
  },
  {
   "cell_type": "code",
   "execution_count": 21,
   "id": "5bbdbccf-fd1e-4056-9584-5d4b68f0fc8c",
   "metadata": {},
   "outputs": [
    {
     "data": {
      "text/plain": [
       "array([[1.000000e-07, 1.000000e-07, 1.000000e-07],\n",
       "       [9.999999e-01, 9.999999e-01, 9.999999e-01],\n",
       "       [9.999999e-01, 1.000000e-07, 9.999999e-01]])"
      ]
     },
     "execution_count": 21,
     "metadata": {},
     "output_type": "execute_result"
    }
   ],
   "source": [
    "temp=np.array([\n",
    "    [0,0,0],\n",
    "    [1,1,1],\n",
    "    [1,0,1]\n",
    "])\n",
    "np.clip(temp,1e-7,1-1e-7)"
   ]
  },
  {
   "cell_type": "markdown",
   "id": "95b5cd56-ac26-4f3f-aa63-b36a78fdcdd9",
   "metadata": {},
   "source": [
    "# lets make a class"
   ]
  },
  {
   "cell_type": "code",
   "execution_count": 22,
   "id": "7a99eaa6-87cf-4b0a-a646-cd8d7d94b414",
   "metadata": {},
   "outputs": [],
   "source": [
    "class Loss:\n",
    "    def calculate(self,y_pred,y_true):\n",
    "        self.loss=self.forward(y_pred,y_true)\n",
    "        self.avg_loss=np.mean(self.loss)\n",
    "        return self.avg_loss"
   ]
  },
  {
   "cell_type": "code",
   "execution_count": 23,
   "id": "1ab34cc0-86ed-40e8-86d8-c6e1dd81fd19",
   "metadata": {},
   "outputs": [],
   "source": [
    "class Categorical_loss_entropy(Loss):\n",
    "    def __init__(self):\n",
    "        super().__init__()\n",
    "    def forward(self,y_pred,y_true):\n",
    "        y_pred_cliped=np.clip(y_pred,1e-7,1-1e-7)\n",
    "        #check for the type of actual values\n",
    "        if len(y_true.shape)==2:\n",
    "            correctness=np.sum(y_pred_cliped*y_true,axis=1)\n",
    "            \n",
    "        elif len(actual_values.shape==1):\n",
    "            correctness=y_pred_cliped[range(len(y_pred_cliped)),y_true]\n",
    "        else:\n",
    "            raise Except(\"there is an error with the shape of the input.\")\n",
    "            \n",
    "        self.loss=-np.log(correctness)\n",
    "        return self.loss"
   ]
  },
  {
   "cell_type": "code",
   "execution_count": 24,
   "id": "d7a4a55c-5aea-425e-8766-0f33a0eeafbc",
   "metadata": {},
   "outputs": [],
   "source": [
    "loss_fn=Categorical_loss_entropy()"
   ]
  },
  {
   "cell_type": "code",
   "execution_count": 25,
   "id": "6e94268b-4f9a-4080-8f30-c19ba4d0b635",
   "metadata": {},
   "outputs": [
    {
     "data": {
      "text/plain": [
       "0.4431786936053461"
      ]
     },
     "execution_count": 25,
     "metadata": {},
     "output_type": "execute_result"
    }
   ],
   "source": [
    "loss_fn.calculate(actual_output,output_softmax)"
   ]
  },
  {
   "cell_type": "markdown",
   "id": "2ef58196-0a93-4e71-b8c5-6119c481508e",
   "metadata": {},
   "source": [
    "# train a model"
   ]
  },
  {
   "cell_type": "code",
   "execution_count": 26,
   "id": "2e74d956-6fe1-4252-ac6d-158fcac6f829",
   "metadata": {},
   "outputs": [],
   "source": [
    "from dense import Dense\n",
    "from activation import Relu,Softmax\n",
    "from loss import Categorical_loss_entropy\n",
    "from nnfs.datasets import spiral_data"
   ]
  },
  {
   "cell_type": "markdown",
   "id": "6da74042-878f-45e2-9252-8e74e8fbe4d3",
   "metadata": {},
   "source": [
    "## define the architecture of the model"
   ]
  },
  {
   "cell_type": "code",
   "execution_count": 27,
   "id": "8acf590f-3925-4394-ace6-c0ddbf818022",
   "metadata": {},
   "outputs": [],
   "source": [
    "x,y=spiral_data(samples=1000,classes=3)\n",
    "\n",
    "#specify the first hidden layer\n",
    "dense1=Dense(n_inputs=2,n_neurons=3)\n",
    "act1=Relu()\n",
    "dense2=Dense(n_inputs=3,n_neurons=3)  #the last shape is 3 because the outputs has 3 classes \n",
    "act2=Softmax()\n",
    "loss=Categorical_loss_entropy()"
   ]
  },
  {
   "cell_type": "markdown",
   "id": "b7e507e6-8dd6-4922-acb2-14d2010e095d",
   "metadata": {},
   "source": [
    "# lets train--feed forward and evaluated it"
   ]
  },
  {
   "cell_type": "code",
   "execution_count": 28,
   "id": "8f5674e0-a481-473f-ad19-1f3902f30e84",
   "metadata": {},
   "outputs": [],
   "source": [
    "dense1.forward(x)\n",
    "\n",
    "act1.forward(dense1.outputs)\n",
    "\n",
    "dense2.forward(act1.output)\n",
    "\n",
    "act2.forward(dense2.outputs)\n",
    "\n",
    "final_loss=loss.calculate(act2.outputs,y)"
   ]
  },
  {
   "cell_type": "code",
   "execution_count": 29,
   "id": "a9d88093-7a2c-4e38-81fa-3f536e5333a8",
   "metadata": {},
   "outputs": [
    {
     "data": {
      "text/plain": [
       "1.098622618792298"
      ]
     },
     "execution_count": 29,
     "metadata": {},
     "output_type": "execute_result"
    }
   ],
   "source": [
    "final_loss"
   ]
  },
  {
   "cell_type": "code",
   "execution_count": 30,
   "id": "9ceac09d-dfc1-40d3-988c-fe93e09c819f",
   "metadata": {},
   "outputs": [
    {
     "name": "stdout",
     "output_type": "stream",
     "text": [
      "[[0.33333333 0.33333333 0.33333333]\n",
      " [0.33333333 0.33333333 0.33333333]\n",
      " [0.33333332 0.33333343 0.33333325]\n",
      " [0.33333336 0.33333332 0.33333331]\n",
      " [0.33333339 0.33333332 0.33333329]]\n"
     ]
    }
   ],
   "source": [
    "print(act2.outputs[:5])"
   ]
  },
  {
   "cell_type": "markdown",
   "id": "4a97bb00-cb07-4853-901e-fdbc217ee50b",
   "metadata": {},
   "source": [
    "# calculating the accuracy"
   ]
  },
  {
   "cell_type": "markdown",
   "id": "9dffe79b-f038-41c2-8d44-ebc0705725da",
   "metadata": {},
   "source": [
    "## if the target is indexed"
   ]
  },
  {
   "cell_type": "code",
   "execution_count": 31,
   "id": "53536d33-b574-4d00-bea3-2f511968862b",
   "metadata": {},
   "outputs": [],
   "source": [
    "temp=np.array([\n",
    "               [12,23,34],\n",
    "               [34,54,23],\n",
    "               [65,62,61]\n",
    "              ])\n",
    "class_targets=[2,0,0]\n",
    "\n",
    "pred=np.argmax(temp,axis=1)"
   ]
  },
  {
   "cell_type": "code",
   "execution_count": 33,
   "id": "212250ba-c753-4a9e-a5ab-e7662a916e6d",
   "metadata": {},
   "outputs": [
    {
     "name": "stdout",
     "output_type": "stream",
     "text": [
      "0.6666666666666666\n"
     ]
    }
   ],
   "source": [
    "# lets calculate the accuracy\n",
    "accuracy=np.mean(class_targets==pred)\n",
    "print(accuracy)"
   ]
  },
  {
   "cell_type": "markdown",
   "id": "884f75fc-de31-4342-99e5-c0e4ac9772aa",
   "metadata": {},
   "source": [
    "## if the target is one hot encoded"
   ]
  },
  {
   "cell_type": "code",
   "execution_count": 34,
   "id": "32081f72-dcda-4c61-ab40-6572cbe89f8c",
   "metadata": {},
   "outputs": [],
   "source": [
    "class_targets_mat=np.array([\n",
    "    [0,0,1],\n",
    "    [0,1,0],\n",
    "    [1,0,0]\n",
    "])\n",
    "\n",
    "y_pred=np.array([\n",
    "    [0.2,0.1,0.7],\n",
    "    [0.8,0.1,0.1],\n",
    "    [0.5,0.4,0.1]\n",
    "])\n",
    "\n",
    "acc=0\n",
    "new_class_targets=[]\n",
    "\n",
    "#we arrange the class targets\n",
    "if len(class_targets_mat.shape)==2:\n",
    "    new_class_targets=np.argmax(class_targets_mat,axis=1)\n",
    "\n",
    "#lets extract the index of the predicted by the volume\n",
    "predictions=np.argmax(y_pred,axis=1)"
   ]
  },
  {
   "cell_type": "code",
   "execution_count": 35,
   "id": "fef5342d-6471-43ef-a0ee-320a9fb400e1",
   "metadata": {},
   "outputs": [
    {
     "name": "stdout",
     "output_type": "stream",
     "text": [
      "the accuracy is:0.6666666666666666 \n"
     ]
    }
   ],
   "source": [
    "# now lets calculate the accuracy\n",
    "accuracy_1=np.mean(new_class_targets==predictions)\n",
    "print(f\"the accuracy is:{accuracy_1} \")"
   ]
  },
  {
   "cell_type": "code",
   "execution_count": null,
   "id": "56e8e46e-c922-411a-ac03-8388a8c56286",
   "metadata": {},
   "outputs": [],
   "source": []
  }
 ],
 "metadata": {
  "kernelspec": {
   "display_name": "Python 3 (ipykernel)",
   "language": "python",
   "name": "python3"
  },
  "language_info": {
   "codemirror_mode": {
    "name": "ipython",
    "version": 3
   },
   "file_extension": ".py",
   "mimetype": "text/x-python",
   "name": "python",
   "nbconvert_exporter": "python",
   "pygments_lexer": "ipython3",
   "version": "3.8.18"
  }
 },
 "nbformat": 4,
 "nbformat_minor": 5
}
