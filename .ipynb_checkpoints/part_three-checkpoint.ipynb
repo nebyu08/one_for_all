{
 "cells": [
  {
   "cell_type": "code",
   "execution_count": 1,
   "id": "36a4cfc3-f218-4d5d-961f-ab562a1272f1",
   "metadata": {},
   "outputs": [],
   "source": [
    "import numpy as np"
   ]
  },
  {
   "cell_type": "code",
   "execution_count": 2,
   "id": "bda859e1-770f-4b47-abbf-c089f937deca",
   "metadata": {},
   "outputs": [],
   "source": [
    "p=np.random.randn(10)"
   ]
  },
  {
   "cell_type": "markdown",
   "id": "fc7a1e61-7e31-4182-b0cd-6fbda563c66e",
   "metadata": {},
   "source": [
    "# simple implementation of RELU"
   ]
  },
  {
   "cell_type": "code",
   "execution_count": 3,
   "id": "09ccf039-f3f7-4549-b605-1e2ec1937246",
   "metadata": {},
   "outputs": [],
   "source": [
    "output=[]\n",
    "\n",
    "for i in p:\n",
    "    if i>0:\n",
    "        output.append(i)\n",
    "    else:\n",
    "        output.append(0)"
   ]
  },
  {
   "cell_type": "code",
   "execution_count": 4,
   "id": "8cfeaef6-04d4-4f4d-8a34-82bb06200bc2",
   "metadata": {},
   "outputs": [
    {
     "name": "stdout",
     "output_type": "stream",
     "text": [
      "[0.027340066632946053, 0.20697974061751592, 0, 1.874299098240408, 0, 0.6438178618740504, 1.4161190293227832, 0, 0, 0.4212223942452171]\n"
     ]
    }
   ],
   "source": [
    "print(output)"
   ]
  },
  {
   "cell_type": "markdown",
   "id": "86bb7028-dc7b-4eae-a8a6-1b79a60db446",
   "metadata": {},
   "source": [
    "# smarter way"
   ]
  },
  {
   "cell_type": "code",
   "execution_count": 5,
   "id": "659b7322-87cf-4d15-a53e-6735ea3f162f",
   "metadata": {},
   "outputs": [],
   "source": [
    "outputs=[]\n",
    "p_p=[0, 2, 0, -3.3, 0, 1.1, -2.2, 0]\n",
    "p_a=np.array(p_p)\n",
    "# for i in p_a:\n",
    "#     outputs.append(max(0,i))  \n",
    "\n",
    "p_a=np.maximum(0,p_a)"
   ]
  },
  {
   "cell_type": "code",
   "execution_count": 6,
   "id": "e2944591-0c99-4e14-84e3-89a5c9f85161",
   "metadata": {},
   "outputs": [
    {
     "data": {
      "text/plain": [
       "array([0. , 2. , 0. , 0. , 0. , 1.1, 0. , 0. ])"
      ]
     },
     "execution_count": 6,
     "metadata": {},
     "output_type": "execute_result"
    }
   ],
   "source": [
    "p_a"
   ]
  },
  {
   "cell_type": "markdown",
   "id": "2b3435c7-aed6-4bef-a662-394b590c257a",
   "metadata": {},
   "source": [
    "# lets make a class of RELU yay"
   ]
  },
  {
   "cell_type": "code",
   "execution_count": 7,
   "id": "855c8e09-1898-4bcc-a44e-a59d4320afab",
   "metadata": {},
   "outputs": [],
   "source": [
    "from dense import Dense\n",
    "from nnfs.datasets import spiral_data"
   ]
  },
  {
   "cell_type": "code",
   "execution_count": 8,
   "id": "c78f7472-8190-41a6-a8f8-f21349c1a22d",
   "metadata": {},
   "outputs": [],
   "source": [
    "class Relu_act:\n",
    "    def forward(self,inputs):\n",
    "        self.output=np.maximum(0,inputs)"
   ]
  },
  {
   "cell_type": "code",
   "execution_count": 9,
   "id": "41fbd4e4-31f7-40e3-a7e7-1db6e03cfb30",
   "metadata": {},
   "outputs": [
    {
     "name": "stdout",
     "output_type": "stream",
     "text": [
      "[[0.00000000e+00 0.00000000e+00 0.00000000e+00]\n",
      " [0.00000000e+00 4.34546826e-06 0.00000000e+00]\n",
      " [0.00000000e+00 0.00000000e+00 1.45992175e-06]\n",
      " [0.00000000e+00 1.77114204e-05 0.00000000e+00]\n",
      " [0.00000000e+00 2.47827520e-05 0.00000000e+00]]\n"
     ]
    }
   ],
   "source": [
    "x,y=spiral_data(samples=1000,classes=3)\n",
    "\n",
    "#lets specify some architecture of the neural network\n",
    "dense1=Dense(2,3)\n",
    "activation_1=Relu_act()\n",
    "\n",
    "\n",
    "#make forward pass into the model\n",
    "dense1.forward(x)\n",
    "#lets pass the output through the activation function\n",
    "activation_1.forward(dense1.outputs)\n",
    "\n",
    "#lets see some value after the activation function has passed \n",
    "print(activation_1.output[:5])"
   ]
  },
  {
   "cell_type": "code",
   "execution_count": 11,
   "id": "5b331715-357b-4926-95b7-f5cddf924ede",
   "metadata": {},
   "outputs": [
    {
     "name": "stdout",
     "output_type": "stream",
     "text": [
      "[[0.00000000e+00 0.00000000e+00 0.00000000e+00]\n",
      " [2.14286763e-06 9.90313553e-05 9.75243355e-05]\n",
      " [1.45200202e-04 0.00000000e+00 1.31826381e-04]\n",
      " [1.26494404e-04 0.00000000e+00 2.93911852e-04]\n",
      " [2.86148063e-04 0.00000000e+00 0.00000000e+00]]\n"
     ]
    }
   ],
   "source": [
    "class Activation_ReLU:\n",
    "# Forward pass\n",
    "    def forward(self, inputs):\n",
    "# Calculate output values from input\n",
    "        self.output = np.maximum(0, inputs)\n",
    "\n",
    "\n",
    "X, y = spiral_data(samples=100, classes=3)\n",
    "# Create Dense layer with 2 input features and 3 output values\n",
    "dense1 = Dense(2, 3)\n",
    "# Create ReLU activation (to be used with Dense layer):\n",
    "activation1 = Activation_ReLU()\n",
    "# Make a forward pass of our training data through this layer\n",
    "dense1.forward(X)\n",
    "# Forward pass through activation func.\n",
    "# Takes in output from previous layer\n",
    "activation1.forward(dense1.outputs)\n",
    "\n",
    "print(activation1.output[:5])\n"
   ]
  },
  {
   "cell_type": "code",
   "execution_count": null,
   "id": "3a377907-a37c-44c0-98a5-0dcc2c1cb604",
   "metadata": {},
   "outputs": [],
   "source": []
  }
 ],
 "metadata": {
  "kernelspec": {
   "display_name": "Python 3 (ipykernel)",
   "language": "python",
   "name": "python3"
  },
  "language_info": {
   "codemirror_mode": {
    "name": "ipython",
    "version": 3
   },
   "file_extension": ".py",
   "mimetype": "text/x-python",
   "name": "python",
   "nbconvert_exporter": "python",
   "pygments_lexer": "ipython3",
   "version": "3.8.18"
  }
 },
 "nbformat": 4,
 "nbformat_minor": 5
}
