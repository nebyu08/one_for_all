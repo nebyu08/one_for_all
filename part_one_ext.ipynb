{
 "cells": [
  {
   "cell_type": "code",
   "execution_count": 13,
   "id": "4487cf15-e957-4c9a-8fe4-00b1fe590986",
   "metadata": {},
   "outputs": [],
   "source": [
    "import numpy as np\n",
    "\n",
    "i=[1,2,3,2.5]\n",
    "w=[0.2,0.8,-0.5,1]\n",
    "b=2"
   ]
  },
  {
   "cell_type": "code",
   "execution_count": 14,
   "id": "6678a2d7-cf0a-4015-b65a-90e10b11f891",
   "metadata": {},
   "outputs": [],
   "source": [
    "o=0\n",
    "for k in range(len(i)):\n",
    "    o+=i[k]*w[k]\n",
    "o+=b"
   ]
  },
  {
   "cell_type": "code",
   "execution_count": 15,
   "id": "2501c1ea-99d6-4a99-9353-a8d48167f7ab",
   "metadata": {},
   "outputs": [
    {
     "data": {
      "text/plain": [
       "4.8"
      ]
     },
     "execution_count": 15,
     "metadata": {},
     "output_type": "execute_result"
    }
   ],
   "source": [
    "o"
   ]
  },
  {
   "cell_type": "code",
   "execution_count": null,
   "id": "bcc9b9ae-a795-4443-9e3c-76746ea703f7",
   "metadata": {},
   "outputs": [],
   "source": [
    "# lets "
   ]
  }
 ],
 "metadata": {
  "kernelspec": {
   "display_name": "Python 3 (ipykernel)",
   "language": "python",
   "name": "python3"
  },
  "language_info": {
   "codemirror_mode": {
    "name": "ipython",
    "version": 3
   },
   "file_extension": ".py",
   "mimetype": "text/x-python",
   "name": "python",
   "nbconvert_exporter": "python",
   "pygments_lexer": "ipython3",
   "version": "3.8.18"
  }
 },
 "nbformat": 4,
 "nbformat_minor": 5
}
