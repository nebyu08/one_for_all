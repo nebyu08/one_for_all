{
 "cells": [
  {
   "cell_type": "code",
   "execution_count": 1,
   "id": "4487cf15-e957-4c9a-8fe4-00b1fe590986",
   "metadata": {},
   "outputs": [],
   "source": [
    "import numpy as np\n",
    "\n",
    "i=[1,2,3,2.5]\n",
    "w=[0.2,0.8,-0.5,1]\n",
    "b=2"
   ]
  },
  {
   "cell_type": "code",
   "execution_count": 2,
   "id": "6678a2d7-cf0a-4015-b65a-90e10b11f891",
   "metadata": {},
   "outputs": [],
   "source": [
    "o=0\n",
    "for k in range(len(i)):\n",
    "    o+=i[k]*w[k]\n",
    "o+=b"
   ]
  },
  {
   "cell_type": "code",
   "execution_count": 3,
   "id": "2501c1ea-99d6-4a99-9353-a8d48167f7ab",
   "metadata": {},
   "outputs": [
    {
     "data": {
      "text/plain": [
       "4.8"
      ]
     },
     "execution_count": 3,
     "metadata": {},
     "output_type": "execute_result"
    }
   ],
   "source": [
    "o"
   ]
  },
  {
   "cell_type": "markdown",
   "id": "b9993bdc-d962-4c5d-bf4b-28290198b875",
   "metadata": {},
   "source": [
    "# one layer of neurons"
   ]
  },
  {
   "cell_type": "code",
   "execution_count": 4,
   "id": "6ab9cdfc-d7ef-445d-86b0-cf15be5754ec",
   "metadata": {},
   "outputs": [],
   "source": [
    "inputs=[1,2,3,2.5]\n",
    "weights_1=[0.2,0.3,0.9,-0.1]\n",
    "weights_2=[0.23,0.9,-0.33,0.9]\n",
    "weights_3=[0.8,-0.4,0.5,-0.2]\n",
    "weights_4=[0.9,0.2,0.3,0.5]\n",
    "\n",
    "bias_1=2\n",
    "bias_2=4\n",
    "bias_3=5"
   ]
  },
  {
   "cell_type": "code",
   "execution_count": 5,
   "id": "53568925-a039-4824-83b9-f6448d9301c2",
   "metadata": {},
   "outputs": [],
   "source": [
    "out_1=0\n",
    "out_2=0\n",
    "out_3=0"
   ]
  },
  {
   "cell_type": "code",
   "execution_count": 6,
   "id": "a699717a-70b2-446b-9295-929a201a149e",
   "metadata": {},
   "outputs": [],
   "source": [
    "for i in range(len(inputs)):\n",
    "    out_1+=inputs[i]*weights_1[i]\n",
    "    out_2+=inputs[i]*weights_2[i]\n",
    "    out_3+=inputs[i]*weights_3[i]\n",
    "\n",
    "out_1+=bias_1\n",
    "out_2+=bias_2\n",
    "out_3+=bias_3"
   ]
  },
  {
   "cell_type": "code",
   "execution_count": 7,
   "id": "d8e8a5d9-5506-45a8-9991-d4d7c2bf383c",
   "metadata": {},
   "outputs": [
    {
     "data": {
      "text/plain": [
       "(5.25, 7.29, 6.0)"
      ]
     },
     "execution_count": 7,
     "metadata": {},
     "output_type": "execute_result"
    }
   ],
   "source": [
    "out_1,out_2,out_3"
   ]
  },
  {
   "cell_type": "markdown",
   "id": "b5980757-8fb9-4c76-b8a9-3ca31a698d88",
   "metadata": {},
   "source": [
    "# more smarter way of doing the first layer"
   ]
  },
  {
   "cell_type": "code",
   "execution_count": 8,
   "id": "083a94fa-0762-4102-a4fa-2fe03738b6c9",
   "metadata": {},
   "outputs": [],
   "source": [
    "inputs=[90,23,45,12]\n",
    "\n",
    "#there are 3 neruons\n",
    "weights=[\n",
    "    [0.3,-0.2,0.6,0.8],\n",
    "    [0.23,-0.45,0.65,-0.90],\n",
    "    [0.34,0.9,-0.32,-0.65]\n",
    "]\n",
    "biases=[1,2,3]"
   ]
  },
  {
   "cell_type": "code",
   "execution_count": 9,
   "id": "652d4c37-0555-422c-8084-e1766a4fa303",
   "metadata": {},
   "outputs": [],
   "source": [
    "inputs = [1, 2, 3, 2.5]\n",
    "weights = [[0.2, 0.8, -0.5, 1],\n",
    "[0.5, -0.91, 0.26, -0.5],\n",
    "[-0.26, -0.27, 0.17, 0.87]]\n",
    "biases = [2, 3, 0.5]"
   ]
  },
  {
   "cell_type": "code",
   "execution_count": 10,
   "id": "7b4d9601-1ae5-4f4a-b084-e3e96d6053a8",
   "metadata": {},
   "outputs": [
    {
     "name": "stdout",
     "output_type": "stream",
     "text": [
      "[4.8, 1.21, 2.385]\n"
     ]
    }
   ],
   "source": [
    "layer_output=[]\n",
    "\n",
    "for weight,bias in zip(weights,biases):\n",
    "    output=0\n",
    "    for one_inp,one_weight in zip(inputs,weight):\n",
    "        output+=one_inp*one_weight\n",
    "    output+=bias\n",
    "    layer_output.append(output)\n",
    "\n",
    "print(layer_output)"
   ]
  },
  {
   "cell_type": "code",
   "execution_count": 11,
   "id": "fac633b1-8f51-4ec3-af2a-48bb05090cbf",
   "metadata": {},
   "outputs": [],
   "source": [
    "lol=[[1,2,3,4],[9,90]]"
   ]
  },
  {
   "cell_type": "code",
   "execution_count": 12,
   "id": "0a0bedcd-4ab7-4318-a925-cbf45da348ba",
   "metadata": {},
   "outputs": [],
   "source": [
    "import numpy as np\n",
    "\n",
    "a=np.array([[1,2,3,4],[5,6,7,8]])"
   ]
  },
  {
   "cell_type": "code",
   "execution_count": 13,
   "id": "067519b0-4edb-4bb4-ad29-cd07b565c09d",
   "metadata": {},
   "outputs": [
    {
     "data": {
      "text/plain": [
       "(2, 4)"
      ]
     },
     "execution_count": 13,
     "metadata": {},
     "output_type": "execute_result"
    }
   ],
   "source": [
    "a.shape"
   ]
  },
  {
   "cell_type": "code",
   "execution_count": 14,
   "id": "d2274597-3eff-44d1-ad58-41d43e329a9c",
   "metadata": {},
   "outputs": [
    {
     "data": {
      "text/plain": [
       "(2, 4)"
      ]
     },
     "execution_count": 14,
     "metadata": {},
     "output_type": "execute_result"
    }
   ],
   "source": [
    "a.shape"
   ]
  },
  {
   "cell_type": "code",
   "execution_count": 15,
   "id": "6249e809-5b93-48c0-8c74-c2390e83997d",
   "metadata": {},
   "outputs": [],
   "source": [
    "p=np.array(\n",
    "    [[[1,5,6,2],\n",
    "[3,2,1,3]],\n",
    "[[5,2,1,2],\n",
    "[6,4,8,4]],\n",
    "[[2,8,5,3],\n",
    "[1,1,9,4]]]\n",
    ")"
   ]
  },
  {
   "cell_type": "code",
   "execution_count": 16,
   "id": "637c39e8-7103-49ef-91e8-c13cc1a98a4b",
   "metadata": {},
   "outputs": [
    {
     "data": {
      "text/plain": [
       "(3, 2, 4)"
      ]
     },
     "execution_count": 16,
     "metadata": {},
     "output_type": "execute_result"
    }
   ],
   "source": [
    "p.shape"
   ]
  },
  {
   "cell_type": "markdown",
   "id": "cc177961-21d6-44cc-aa60-3da2f6b91d9d",
   "metadata": {},
   "source": [
    "# using numpy "
   ]
  },
  {
   "cell_type": "markdown",
   "id": "6f65efbe-7f2f-42d9-a8d4-1c760300744d",
   "metadata": {},
   "source": [
    "# simple neuron"
   ]
  },
  {
   "cell_type": "code",
   "execution_count": 17,
   "id": "67bb1c0b-6994-45a0-a044-55cc5fa0d717",
   "metadata": {},
   "outputs": [],
   "source": [
    "inputs=[1,2,3,2.5]\n",
    "weights=[0.2,0.8,-0.5,1.0]\n",
    "bias=2\n",
    "c=np.dot(inputs,weights)+bias"
   ]
  },
  {
   "cell_type": "code",
   "execution_count": 18,
   "id": "f9638dc0-c732-4a87-b6d1-5654bb2400b0",
   "metadata": {},
   "outputs": [
    {
     "data": {
      "text/plain": [
       "4.8"
      ]
     },
     "execution_count": 18,
     "metadata": {},
     "output_type": "execute_result"
    }
   ],
   "source": [
    "c"
   ]
  },
  {
   "cell_type": "markdown",
   "id": "5856c413-5d26-415c-9677-6ecc116079cd",
   "metadata": {},
   "source": [
    "# layer of neurons"
   ]
  },
  {
   "cell_type": "code",
   "execution_count": 19,
   "id": "6f642189-f407-4618-bd20-ba1703f237e6",
   "metadata": {},
   "outputs": [],
   "source": [
    "inputs=[1,2,3,4]\n",
    "weights=[\n",
    "    [0.2,0.8,0.4,-0.1],\n",
    "    [0.25,0.76,-0.34,-0.01],\n",
    "    [0.5,-0.9,0.6,-0.3]\n",
    "]\n",
    "bias=[1,2,3]\n",
    "\n",
    "output=np.dot(weights,inputs)+bias"
   ]
  },
  {
   "cell_type": "code",
   "execution_count": 20,
   "id": "4121bc24-ab42-4b0c-aa20-28194a65ac2a",
   "metadata": {},
   "outputs": [
    {
     "data": {
      "text/plain": [
       "(3,)"
      ]
     },
     "execution_count": 20,
     "metadata": {},
     "output_type": "execute_result"
    }
   ],
   "source": [
    "output.shape"
   ]
  },
  {
   "cell_type": "code",
   "execution_count": 27,
   "id": "7963ab7e-cd97-44d3-9778-520fad51dbe0",
   "metadata": {},
   "outputs": [],
   "source": [
    "a=np.array([1,2,3,4])\n",
    "b=a.T\n",
    "#b=np.array([])"
   ]
  },
  {
   "cell_type": "code",
   "execution_count": 28,
   "id": "bfb62965-a538-484a-a879-b5d568dba8b5",
   "metadata": {},
   "outputs": [
    {
     "data": {
      "text/plain": [
       "((4,), (4,))"
      ]
     },
     "execution_count": 28,
     "metadata": {},
     "output_type": "execute_result"
    }
   ],
   "source": [
    "a.shape,b.shape"
   ]
  },
  {
   "cell_type": "code",
   "execution_count": 30,
   "id": "62fea975-b589-4ba4-b49b-442a77be3076",
   "metadata": {},
   "outputs": [
    {
     "name": "stdout",
     "output_type": "stream",
     "text": [
      "[1 2 3 4]\n",
      "\n",
      "[1 2 3 4]\n"
     ]
    }
   ],
   "source": [
    "print(a)\n",
    "print()\n",
    "print(b)"
   ]
  },
  {
   "cell_type": "markdown",
   "id": "9457f750-f3a0-456b-afca-423911447ab8",
   "metadata": {},
   "source": [
    "# transpose matrix operation"
   ]
  },
  {
   "cell_type": "code",
   "execution_count": 41,
   "id": "6ccefc3b-8fac-489b-94b7-693fd4792cf4",
   "metadata": {},
   "outputs": [],
   "source": [
    "a=np.array([[1,2,3,4]])\n",
    "\n",
    "#b=np.array()"
   ]
  },
  {
   "cell_type": "code",
   "execution_count": 44,
   "id": "045d3b81-3581-49cd-9856-fd0bc0c8f1c6",
   "metadata": {},
   "outputs": [],
   "source": [
    "a_=[1,2,3,4]\n",
    "a_a=np.expand_dims(np.array(a_),axis=0)"
   ]
  },
  {
   "cell_type": "code",
   "execution_count": 45,
   "id": "e1758a34-9ab8-4515-a35f-6f70086e0afc",
   "metadata": {},
   "outputs": [
    {
     "data": {
      "text/plain": [
       "((1, 4), (1, 4))"
      ]
     },
     "execution_count": 45,
     "metadata": {},
     "output_type": "execute_result"
    }
   ],
   "source": [
    "a.shape,a_a.shape"
   ]
  },
  {
   "cell_type": "code",
   "execution_count": 47,
   "id": "3ed760f2-f499-493a-8c50-4c226991e7ac",
   "metadata": {},
   "outputs": [],
   "source": [
    "#turn them into row and column vector\n",
    "a=np.array([1,2,3,4,5])\n",
    "b=np.array([6,7,8,9,10])\n",
    "\n",
    "a_r=np.expand_dims(a,axis=0)\n",
    "b_r=np.expand_dims(b,axis=0)\n",
    "b_c=b_r.T"
   ]
  },
  {
   "cell_type": "code",
   "execution_count": 49,
   "id": "570d9af5-6352-4de5-96cb-cbbab3486933",
   "metadata": {},
   "outputs": [
    {
     "data": {
      "text/plain": [
       "((1, 5), (5, 1))"
      ]
     },
     "execution_count": 49,
     "metadata": {},
     "output_type": "execute_result"
    }
   ],
   "source": [
    "a_r.shape,b_c.shape"
   ]
  },
  {
   "cell_type": "code",
   "execution_count": 52,
   "id": "9255d278-30c2-4d81-ab77-bf87aadedde7",
   "metadata": {},
   "outputs": [
    {
     "name": "stdout",
     "output_type": "stream",
     "text": [
      "[[130]]\n",
      "(1, 1)\n"
     ]
    }
   ],
   "source": [
    "result=np.dot(a_r,b_c)\n",
    "print(result)\n",
    "print(result.shape)"
   ]
  },
  {
   "cell_type": "code",
   "execution_count": 58,
   "id": "45c24d23-e54d-47e0-b381-c0fd857ccf55",
   "metadata": {},
   "outputs": [
    {
     "name": "stdout",
     "output_type": "stream",
     "text": [
      "(3, 4)\n",
      "(3, 4)\n",
      "[[ 90 130 170]\n",
      " [240 380 500]\n",
      " [360 580 764]]\n"
     ]
    }
   ],
   "source": [
    "temp=np.array([\n",
    "    [1,2,3,4],\n",
    "    [6,7,8,9],\n",
    "    [10,11,12,13]\n",
    "])\n",
    "\n",
    "temp_1=np.array([\n",
    "    [0,10,10,10],\n",
    "    [11,12,13,14],\n",
    "    [15,16,17,18]\n",
    "])\n",
    "\n",
    "print(temp.shape)\n",
    "print(temp_1.shape)\n",
    "print(np.dot(temp,temp_1.T))"
   ]
  },
  {
   "cell_type": "markdown",
   "id": "ae64abd2-edc5-4079-8816-5fa744783c1e",
   "metadata": {},
   "source": [
    "# layer of neurons and batch of data"
   ]
  },
  {
   "cell_type": "code",
   "execution_count": 67,
   "id": "0a0d713b-465c-4640-99ba-a9f58a10c47e",
   "metadata": {},
   "outputs": [],
   "source": [
    "inputs=[\n",
    "    [1,2,3,2.5],\n",
    "    [2,5,-1,2],\n",
    "    [-1.5,2.7,3.3,-0.18]\n",
    "]   #theses are batches of 3 input data\n",
    "\n",
    "weights=[\n",
    "    [0.2,0.8,0.5,-1],\n",
    "    [0.5,-0.91,0.26,-0.5],\n",
    "    [-0.26,-0.27,0.17,0.87]\n",
    "]"
   ]
  },
  {
   "cell_type": "code",
   "execution_count": 68,
   "id": "ac9c9e1b-4436-4f66-8430-a39f63659ccd",
   "metadata": {},
   "outputs": [],
   "source": [
    "inputs_array=np.array(inputs)\n",
    "weights_array=np.array(weights)\n",
    "bias=np.array(1,2,3)"
   ]
  },
  {
   "cell_type": "code",
   "execution_count": 69,
   "id": "d7b27921-2d10-46a8-a344-94bc688ebc7f",
   "metadata": {},
   "outputs": [
    {
     "data": {
      "text/plain": [
       "((3, 4), (3, 4))"
      ]
     },
     "execution_count": 69,
     "metadata": {},
     "output_type": "execute_result"
    }
   ],
   "source": [
    "inputs_array.shape,weights_array.shape"
   ]
  },
  {
   "cell_type": "code",
   "execution_count": 71,
   "id": "8844385f-cda2-43b2-923b-0b822c94bd7b",
   "metadata": {},
   "outputs": [
    {
     "data": {
      "text/plain": [
       "array([[ 1.8   ,  0.21  ,  4.885 ],\n",
       "       [ 2.9   , -2.81  ,  2.7   ],\n",
       "       [ 4.69  , -0.259 ,  3.0654]])"
      ]
     },
     "execution_count": 71,
     "metadata": {},
     "output_type": "execute_result"
    }
   ],
   "source": [
    "np.dot(inputs_array,weights_array.T)+bias"
   ]
  },
  {
   "cell_type": "code",
   "execution_count": null,
   "id": "76631d6a-ea2c-4080-a260-495cad321a9c",
   "metadata": {},
   "outputs": [],
   "source": []
  }
 ],
 "metadata": {
  "kernelspec": {
   "display_name": "Python 3 (ipykernel)",
   "language": "python",
   "name": "python3"
  },
  "language_info": {
   "codemirror_mode": {
    "name": "ipython",
    "version": 3
   },
   "file_extension": ".py",
   "mimetype": "text/x-python",
   "name": "python",
   "nbconvert_exporter": "python",
   "pygments_lexer": "ipython3",
   "version": "3.8.18"
  }
 },
 "nbformat": 4,
 "nbformat_minor": 5
}
