{
 "cells": [
  {
   "cell_type": "code",
   "execution_count": 1,
   "id": "4111d32b-5fb2-40c0-8e44-0c95f73884a1",
   "metadata": {},
   "outputs": [],
   "source": [
    "import numpy as np\n",
    "from dense import Dense\n",
    "from optimization import SGD\n",
    "from activation import Relu\n",
    "from loss import softmax_categorical_loss\n",
    "from nnfs.datasets import spiral_data"
   ]
  },
  {
   "cell_type": "code",
   "execution_count": 2,
   "id": "d0af1dd9-1334-4d95-8652-dd28114c1318",
   "metadata": {},
   "outputs": [],
   "source": [
    "x,y=spiral_data(samples=1000,classes=3)"
   ]
  },
  {
   "cell_type": "code",
   "execution_count": 3,
   "id": "191ecbb4-2793-4290-8673-669c52e90b5a",
   "metadata": {},
   "outputs": [
    {
     "name": "stdout",
     "output_type": "stream",
     "text": [
      "the loss:1.10\n",
      "the accuracy is 0.27\n"
     ]
    }
   ],
   "source": [
    "#lets build a neural network model\n",
    "\n",
    "#the input layer\n",
    "layer1=Dense(2,64)\n",
    "\n",
    "#pass it through the activation layer\n",
    "act1=Relu()\n",
    "\n",
    "#the hidden layer\n",
    "layer2=Dense(64,3)\n",
    "\n",
    "#our loss and activation \n",
    "act_loss=softmax_categorical_loss()\n",
    "\n",
    "#lets see the forward pass of the model\n",
    "layer1.forward(x)\n",
    "\n",
    "act1.forward(layer1.outputs)\n",
    "\n",
    "layer2.forward(act1.output)\n",
    "\n",
    "loss=act_loss.forward(layer2.outputs,y)\n",
    "\n",
    "#lets define the optimizer for the model\n",
    "optimizer=SGD()\n",
    "\n",
    "#lets display the loss of the model\n",
    "print(f\"the loss:{loss:.2f}\")\n",
    "\n",
    "#lets calculate the accuracy of the model\n",
    "prediction=np.argmax(act_loss.outputs,axis=1)\n",
    "\n",
    "if len(y.shape)==2:\n",
    "    y=argmax(y,axis=1)\n",
    "\n",
    "accuracy=np.mean(prediction==y)\n",
    "\n",
    "#the accuracy of the model is\n",
    "print(f\"the accuracy is {accuracy:.2f}\")\n",
    "\n",
    "#lets backward pass\n",
    "act_loss.backward(act_loss.outputs,y)\n",
    "layer2.backward(act_loss.dinputs)\n",
    "act1.backward(layer2.dinputs)\n",
    "layer1.backward(act1.drelu)\n",
    "\n",
    "#lets optimize the model\n",
    "optimizer.update_params(layer1)\n",
    "optimizer.update_params(layer2)\n"
   ]
  },
  {
   "cell_type": "markdown",
   "id": "f76de0dd-0c89-46c5-97da-14811b37b910",
   "metadata": {},
   "source": [
    "# lets loop the training and optimizing the model"
   ]
  },
  {
   "cell_type": "code",
   "execution_count": 4,
   "id": "6cb0f9c4-0c1f-42e6-8cf6-c920c09bc24f",
   "metadata": {},
   "outputs": [
    {
     "name": "stdout",
     "output_type": "stream",
     "text": [
      "the epoch 0,loss: 1.10 , accuracy:0.38\n",
      "the epoch 1000,loss: 1.10 , accuracy:0.33\n",
      "the epoch 2000,loss: 1.10 , accuracy:0.33\n",
      "the epoch 3000,loss: 1.67 , accuracy:0.33\n",
      "the epoch 4000,loss: 10.75 , accuracy:0.33\n",
      "the epoch 5000,loss: 10.75 , accuracy:0.33\n",
      "the epoch 6000,loss: 10.75 , accuracy:0.33\n",
      "the epoch 7000,loss: 10.75 , accuracy:0.33\n",
      "the epoch 8000,loss: 10.75 , accuracy:0.33\n",
      "the epoch 9000,loss: 10.75 , accuracy:0.33\n"
     ]
    }
   ],
   "source": [
    "#lets define the model architecture\n",
    "#the input layer\n",
    "layer1=Dense(2,64)\n",
    "\n",
    "#pass it through the activation layer\n",
    "act1=Relu()\n",
    "\n",
    "#the hidden layer\n",
    "layer2=Dense(64,3)\n",
    "\n",
    "#our loss and activation \n",
    "act_loss=softmax_categorical_loss()\n",
    "\n",
    "epoch=10000\n",
    "for i in range(epoch):\n",
    "    layer1.forward(x)\n",
    "\n",
    "    act1.forward(layer1.outputs)\n",
    "    \n",
    "    layer2.forward(act1.output)\n",
    "    \n",
    "    loss=act_loss.forward(layer2.outputs,y)\n",
    "    \n",
    "    #lets define the optimizer for the model\n",
    "    optimizer=SGD()\n",
    "    \n",
    "    #lets display the loss of the model\n",
    "    #print(f\"the loss:{loss:.2f}\")\n",
    "    \n",
    "    #lets calculate the accuracy of the model\n",
    "    prediction=np.argmax(act_loss.outputs,axis=1)\n",
    "    \n",
    "    if len(y.shape)==2:\n",
    "        y=argmax(y,axis=1)\n",
    "    \n",
    "    accuracy=np.mean(prediction==y)\n",
    "    \n",
    "    #the accuracy of the model is\n",
    "    #print(f\"the accuracy is {accuracy:.2f}\")\n",
    "    if i%1000==0:\n",
    "        print(f\"the epoch {i},loss: {loss:.2f} , accuracy:{accuracy:.2f}\")\n",
    "    #lets backward pass\n",
    "    act_loss.backward(act_loss.outputs,y)\n",
    "    layer2.backward(act_loss.dinputs)\n",
    "    act1.backward(layer2.dinputs)\n",
    "    layer1.backward(act1.drelu)\n",
    "    \n",
    "    #lets optimize the model\n",
    "    optimizer.update_params(layer1)\n",
    "    optimizer.update_params(layer2)"
   ]
  },
  {
   "cell_type": "code",
   "execution_count": null,
   "id": "3e7c3b8e-82c1-47cb-8b50-66ddfd2e7a7c",
   "metadata": {},
   "outputs": [],
   "source": []
  }
 ],
 "metadata": {
  "kernelspec": {
   "display_name": "Python 3 (ipykernel)",
   "language": "python",
   "name": "python3"
  },
  "language_info": {
   "codemirror_mode": {
    "name": "ipython",
    "version": 3
   },
   "file_extension": ".py",
   "mimetype": "text/x-python",
   "name": "python",
   "nbconvert_exporter": "python",
   "pygments_lexer": "ipython3",
   "version": "3.8.18"
  }
 },
 "nbformat": 4,
 "nbformat_minor": 5
}
