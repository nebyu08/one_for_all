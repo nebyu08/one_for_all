{
 "cells": [
  {
   "cell_type": "markdown",
   "id": "71efd61e-81b7-4c66-abe8-43f8ff112a00",
   "metadata": {},
   "source": [
    "# lets try to test our model performance"
   ]
  },
  {
   "cell_type": "code",
   "execution_count": 1,
   "id": "c1440e48-3deb-4e93-9b5d-471782259949",
   "metadata": {},
   "outputs": [],
   "source": [
    "%load_ext autoreload\n",
    "%autoreload 2"
   ]
  },
  {
   "cell_type": "code",
   "execution_count": 2,
   "id": "86381245-1545-4347-bb2d-8f5a39fffa9b",
   "metadata": {},
   "outputs": [],
   "source": [
    "import numpy as np\n",
    "from dense import Dense\n",
    "from optimization import SGD,Ada_Grad,RMS_Prop,Adam\n",
    "from activation import Relu\n",
    "from loss import softmax_categorical_loss\n",
    "from nnfs.datasets import spiral_data"
   ]
  },
  {
   "cell_type": "code",
   "execution_count": 3,
   "id": "b5a52421-ccc2-4b64-80bd-5afc947b5910",
   "metadata": {},
   "outputs": [],
   "source": [
    "x,y=spiral_data(samples=1000,classes=3)"
   ]
  },
  {
   "cell_type": "markdown",
   "id": "e05ea144-4ebe-4c25-87c9-5c6c596fd686",
   "metadata": {},
   "source": [
    "## lets try to train our model"
   ]
  },
  {
   "cell_type": "code",
   "execution_count": 22,
   "id": "fcf772ef-0856-4541-a871-923e6d649f9b",
   "metadata": {},
   "outputs": [],
   "source": [
    "#the input layer\n",
    "layer1=Dense(2,64)\n",
    "\n",
    "#pass it through the activation layer\n",
    "act1=Relu()\n",
    "\n",
    "#the hidden layer\n",
    "layer2=Dense(64,3)\n",
    "\n",
    "#our loss and activation \n",
    "act_loss=softmax_categorical_loss()\n",
    "\n",
    "#optimizer\n",
    "optimizer = Adam(lr=0.02,decay_rate=1e-5)"
   ]
  },
  {
   "cell_type": "code",
   "execution_count": 23,
   "id": "e492419d-3fb2-46e3-a44e-8ab73b5ea51b",
   "metadata": {},
   "outputs": [
    {
     "name": "stdout",
     "output_type": "stream",
     "text": [
      "epoch 0 | accuracy is 0.29 |  loss is 1.099 | learning rate is 0.02000 \n",
      "epoch 1000 | accuracy is 0.81 |  loss is 0.434 | learning rate is 0.01980 \n",
      "epoch 2000 | accuracy is 0.86 |  loss is 0.337 | learning rate is 0.01961 \n",
      "epoch 3000 | accuracy is 0.89 |  loss is 0.280 | learning rate is 0.01942 \n",
      "epoch 4000 | accuracy is 0.89 |  loss is 0.266 | learning rate is 0.01923 \n",
      "epoch 5000 | accuracy is 0.90 |  loss is 0.256 | learning rate is 0.01905 \n",
      "epoch 6000 | accuracy is 0.90 |  loss is 0.252 | learning rate is 0.01887 \n",
      "epoch 7000 | accuracy is 0.90 |  loss is 0.250 | learning rate is 0.01869 \n",
      "epoch 8000 | accuracy is 0.91 |  loss is 0.249 | learning rate is 0.01852 \n",
      "epoch 9000 | accuracy is 0.90 |  loss is 0.246 | learning rate is 0.01835 \n",
      "epoch 10000 | accuracy is 0.89 |  loss is 0.247 | learning rate is 0.01818 \n"
     ]
    }
   ],
   "source": [
    "for i in range(10001):\n",
    "    #lets see the forward pass of the model\n",
    "    layer1.forward(x)\n",
    "    \n",
    "    act1.forward(layer1.outputs)\n",
    "    \n",
    "    layer2.forward(act1.output)\n",
    "    \n",
    "    loss=act_loss.forward(layer2.outputs,y)\n",
    "    \n",
    "    #lets display the loss of the model\n",
    "    \n",
    "    #lets calculate the accuracy of the model\n",
    "    prediction=np.argmax(act_loss.outputs,axis=1)\n",
    "    \n",
    "    if len(y.shape)==2:\n",
    "        y=argmax(y,axis=1)\n",
    "    \n",
    "    accuracy=np.mean(prediction==y)\n",
    "\n",
    "    #lets print some\n",
    "    \n",
    "    #the accuracy of the model is\n",
    "    if i%1000==0:\n",
    "        print(f\"epoch {i} | accuracy is {accuracy:.2f} |  loss is {loss:.3f} | learning rate is {optimizer.current_learning_rate:.5f} \")\n",
    "    \n",
    "    #lets backward pass\n",
    "    act_loss.backward(act_loss.outputs,y)\n",
    "    layer2.backward(act_loss.dinputs)\n",
    "    act1.backward(layer2.dinputs)\n",
    "    layer1.backward(act1.drelu)\n",
    "\n",
    "    #lets optimize the model\n",
    "    optimizer.pre_update_params()\n",
    "    optimizer.update_params(layer1)\n",
    "    optimizer.update_params(layer2)\n",
    "    optimizer.post_update_params()\n",
    "    "
   ]
  },
  {
   "cell_type": "markdown",
   "id": "bb5035c8-7e6b-447f-aac3-c8d1844a209c",
   "metadata": {},
   "source": [
    "## lets evaluate the model"
   ]
  },
  {
   "cell_type": "code",
   "execution_count": 7,
   "id": "fa8e3aa2-2ef7-4876-9c3d-a60c8c2e77cd",
   "metadata": {},
   "outputs": [],
   "source": [
    "x_test,y_test=spiral_data(samples=1000 , classes=3 )"
   ]
  },
  {
   "cell_type": "code",
   "execution_count": 14,
   "id": "cd82dc1d-7266-4c3a-8b3b-7ba64502d544",
   "metadata": {},
   "outputs": [],
   "source": [
    "#forwarding and evaluating with the truth value only\n",
    "\n",
    "layer1.forward(x_test)\n",
    "act1.forward(layer1.outputs)\n",
    "layer2.forward(act1.output)\n",
    "loss=act_loss.forward(layer2.outputs,y_test)\n",
    "\n",
    "pred_val=act_loss.outputs\n",
    "#lets make the predicted value 1d of highest probability value\n",
    "if len(pred_val.shape)==2:\n",
    "    pred_val=np.argmax(pred_val,axis=1)\n",
    "\n",
    "accuracy=np.mean(y_test==pred_val)"
   ]
  },
  {
   "cell_type": "code",
   "execution_count": 18,
   "id": "824393a6-827f-43fa-9238-c6b2c8a72549",
   "metadata": {},
   "outputs": [
    {
     "name": "stdout",
     "output_type": "stream",
     "text": [
      "accuracy on testing dataset is 72.13% \n"
     ]
    }
   ],
   "source": [
    "print(f\"accuracy on testing dataset is {accuracy *100:.2f}% \")"
   ]
  },
  {
   "cell_type": "markdown",
   "id": "15adbf0b-356e-4bc6-8112-2422df06cc78",
   "metadata": {},
   "source": [
    "### lets evaluate it with testing dataset"
   ]
  },
  {
   "cell_type": "code",
   "execution_count": 25,
   "id": "3acf30fb-e994-4ba2-acce-b4e38b348465",
   "metadata": {},
   "outputs": [
    {
     "name": "stdout",
     "output_type": "stream",
     "text": [
      "epoch 0 | accuracy is 0.89 |  loss is 0.265 | learning rate is 0.01803 \n",
      "epoch 1000 | accuracy is 0.89 |  loss is 0.265 | learning rate is 0.01803 \n",
      "epoch 2000 | accuracy is 0.89 |  loss is 0.265 | learning rate is 0.01803 \n",
      "epoch 3000 | accuracy is 0.89 |  loss is 0.265 | learning rate is 0.01803 \n",
      "epoch 4000 | accuracy is 0.89 |  loss is 0.265 | learning rate is 0.01803 \n",
      "epoch 5000 | accuracy is 0.89 |  loss is 0.265 | learning rate is 0.01803 \n",
      "epoch 6000 | accuracy is 0.89 |  loss is 0.265 | learning rate is 0.01803 \n",
      "epoch 7000 | accuracy is 0.89 |  loss is 0.265 | learning rate is 0.01803 \n",
      "epoch 8000 | accuracy is 0.89 |  loss is 0.265 | learning rate is 0.01803 \n",
      "epoch 9000 | accuracy is 0.89 |  loss is 0.265 | learning rate is 0.01803 \n",
      "epoch 10000 | accuracy is 0.89 |  loss is 0.265 | learning rate is 0.01803 \n"
     ]
    }
   ],
   "source": [
    "for i in range(10001):\n",
    "    #lets see the forward pass of the model\n",
    "    layer1.forward(x_test)\n",
    "    \n",
    "    act1.forward(layer1.outputs)\n",
    "    \n",
    "    layer2.forward(act1.output)\n",
    "    \n",
    "    loss=act_loss.forward(layer2.outputs,y)\n",
    "    \n",
    "    #lets display the loss of the model\n",
    "    \n",
    "    #lets calculate the accuracy of the model\n",
    "    prediction=np.argmax(act_loss.outputs,axis=1)\n",
    "    \n",
    "    if len(y_test.shape)==2:\n",
    "        y=argmax(y_test,axis=1)\n",
    "    \n",
    "    test_accuracy=np.mean(prediction==y_test)\n",
    "\n",
    "  \n",
    "    #the accuracy of the model is\n",
    "    if i%1000==0:\n",
    "        print(f\"epoch {i} | accuracy is {test_accuracy:.2f} |  loss is {loss:.3f} | learning rate is {optimizer.current_learning_rate:.5f} \")"
   ]
  },
  {
   "cell_type": "code",
   "execution_count": null,
   "id": "e8282fed-c011-45a9-9d93-6f343d632601",
   "metadata": {},
   "outputs": [],
   "source": []
  }
 ],
 "metadata": {
  "kernelspec": {
   "display_name": "Python 3 (ipykernel)",
   "language": "python",
   "name": "python3"
  },
  "language_info": {
   "codemirror_mode": {
    "name": "ipython",
    "version": 3
   },
   "file_extension": ".py",
   "mimetype": "text/x-python",
   "name": "python",
   "nbconvert_exporter": "python",
   "pygments_lexer": "ipython3",
   "version": "3.8.18"
  }
 },
 "nbformat": 4,
 "nbformat_minor": 5
}
