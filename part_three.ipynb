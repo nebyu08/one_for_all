{
 "cells": [
  {
   "cell_type": "code",
   "execution_count": 38,
   "id": "36a4cfc3-f218-4d5d-961f-ab562a1272f1",
   "metadata": {},
   "outputs": [],
   "source": [
    "import numpy as np"
   ]
  },
  {
   "cell_type": "code",
   "execution_count": 39,
   "id": "bda859e1-770f-4b47-abbf-c089f937deca",
   "metadata": {},
   "outputs": [],
   "source": [
    "p=np.random.randn(10)"
   ]
  },
  {
   "cell_type": "markdown",
   "id": "fc7a1e61-7e31-4182-b0cd-6fbda563c66e",
   "metadata": {},
   "source": [
    "# simple implementation of RELU"
   ]
  },
  {
   "cell_type": "code",
   "execution_count": 40,
   "id": "09ccf039-f3f7-4549-b605-1e2ec1937246",
   "metadata": {},
   "outputs": [],
   "source": [
    "output=[]\n",
    "\n",
    "for i in p:\n",
    "    if i>0:\n",
    "        output.append(i)\n",
    "    else:\n",
    "        output.append(0)"
   ]
  },
  {
   "cell_type": "code",
   "execution_count": 41,
   "id": "8cfeaef6-04d4-4f4d-8a34-82bb06200bc2",
   "metadata": {},
   "outputs": [
    {
     "name": "stdout",
     "output_type": "stream",
     "text": [
      "[0, 0.10945564193417558, 1.2456329939226953, 0, 0.4076127014231746, 1.3110234849051623, 0, 0.7211906997196429, 0, 0.8097696417947774]\n"
     ]
    }
   ],
   "source": [
    "print(output)"
   ]
  },
  {
   "cell_type": "markdown",
   "id": "86bb7028-dc7b-4eae-a8a6-1b79a60db446",
   "metadata": {},
   "source": [
    "# smarter way"
   ]
  },
  {
   "cell_type": "code",
   "execution_count": 42,
   "id": "659b7322-87cf-4d15-a53e-6735ea3f162f",
   "metadata": {},
   "outputs": [],
   "source": [
    "outputs=[]\n",
    "p_p=[0, 2, 0, -3.3, 0, 1.1, -2.2, 0]\n",
    "p_a=np.array(p_p)\n",
    "# for i in p_a:\n",
    "#     outputs.append(max(0,i))  \n",
    "\n",
    "p_a=np.maximum(0,p_a)"
   ]
  },
  {
   "cell_type": "code",
   "execution_count": 43,
   "id": "e2944591-0c99-4e14-84e3-89a5c9f85161",
   "metadata": {},
   "outputs": [
    {
     "data": {
      "text/plain": [
       "array([0. , 2. , 0. , 0. , 0. , 1.1, 0. , 0. ])"
      ]
     },
     "execution_count": 43,
     "metadata": {},
     "output_type": "execute_result"
    }
   ],
   "source": [
    "p_a"
   ]
  },
  {
   "cell_type": "markdown",
   "id": "2b3435c7-aed6-4bef-a662-394b590c257a",
   "metadata": {},
   "source": [
    "# lets make a class of RELU yay"
   ]
  },
  {
   "cell_type": "code",
   "execution_count": 44,
   "id": "855c8e09-1898-4bcc-a44e-a59d4320afab",
   "metadata": {},
   "outputs": [],
   "source": [
    "from dense import Dense\n",
    "from nnfs.datasets import spiral_data"
   ]
  },
  {
   "cell_type": "code",
   "execution_count": 45,
   "id": "c78f7472-8190-41a6-a8f8-f21349c1a22d",
   "metadata": {},
   "outputs": [],
   "source": [
    "class Relu_act:\n",
    "    def forward(self,inputs):\n",
    "        self.output=np.maximum(0,inputs)"
   ]
  },
  {
   "cell_type": "code",
   "execution_count": 46,
   "id": "41fbd4e4-31f7-40e3-a7e7-1db6e03cfb30",
   "metadata": {},
   "outputs": [
    {
     "name": "stdout",
     "output_type": "stream",
     "text": [
      "[[0.00000000e+00 0.00000000e+00 0.00000000e+00]\n",
      " [6.10858151e-06 1.67238718e-05 5.24027948e-06]\n",
      " [3.52216323e-05 1.62705576e-05 5.09456273e-06]\n",
      " [4.79648162e-05 2.96840358e-05 9.29657477e-06]\n",
      " [7.91942843e-05 2.07965132e-05 6.50742009e-06]]\n"
     ]
    }
   ],
   "source": [
    "x,y=spiral_data(samples=1000,classes=3)\n",
    "\n",
    "#lets specify some architecture of the neural network\n",
    "dense1=Dense(2,3)\n",
    "activation_1=Relu_act()\n",
    "\n",
    "\n",
    "#make forward pass into the model\n",
    "dense1.forward(x)\n",
    "#lets pass the output through the activation function\n",
    "activation_1.forward(dense1.outputs)\n",
    "\n",
    "#lets see some value after the activation function has passed \n",
    "print(activation_1.output[:5])"
   ]
  },
  {
   "cell_type": "code",
   "execution_count": 47,
   "id": "5b331715-357b-4926-95b7-f5cddf924ede",
   "metadata": {},
   "outputs": [
    {
     "name": "stdout",
     "output_type": "stream",
     "text": [
      "[[0.00000000e+00 0.00000000e+00 0.00000000e+00]\n",
      " [0.00000000e+00 5.28808205e-05 0.00000000e+00]\n",
      " [0.00000000e+00 8.16997343e-05 0.00000000e+00]\n",
      " [0.00000000e+00 2.01586401e-04 0.00000000e+00]\n",
      " [0.00000000e+00 3.70920765e-04 0.00000000e+00]]\n"
     ]
    }
   ],
   "source": [
    "class Activation_ReLU:\n",
    "# Forward pass\n",
    "    def forward(self, inputs):\n",
    "# Calculate output values from input\n",
    "        self.output = np.maximum(0, inputs)\n",
    "\n",
    "\n",
    "X, y = spiral_data(samples=100, classes=3)\n",
    "# Create Dense layer with 2 input features and 3 output values\n",
    "dense1 = Dense(2, 3)\n",
    "# Create ReLU activation (to be used with Dense layer):\n",
    "activation1 = Activation_ReLU()\n",
    "# Make a forward pass of our training data through this layer\n",
    "dense1.forward(X)\n",
    "# Forward pass through activation func.\n",
    "# Takes in output from previous layer\n",
    "activation1.forward(dense1.outputs)\n",
    "\n",
    "print(activation1.output[:5])\n"
   ]
  },
  {
   "cell_type": "markdown",
   "id": "1249e021-81c8-4356-96df-24153ae0e9d9",
   "metadata": {},
   "source": [
    "# using softmax in output "
   ]
  },
  {
   "cell_type": "code",
   "execution_count": 48,
   "id": "00fb705d-939e-40a9-8a32-48626a542f40",
   "metadata": {},
   "outputs": [
    {
     "name": "stdout",
     "output_type": "stream",
     "text": [
      "[4.8, 1.21, 2.385]\n",
      "[121.51041751893969, 3.3534846525504487, 10.85906266492961]\n"
     ]
    }
   ],
   "source": [
    "layer_output=[4.8,1.21,2.385]\n",
    "\n",
    "E=2.71828182846  \n",
    "output_exp=[]\n",
    "\n",
    "for i in layer_output:\n",
    "    output_exp.append(E**i)\n",
    "\n",
    "print(layer_output)\n",
    "print(output_exp)"
   ]
  },
  {
   "cell_type": "code",
   "execution_count": 49,
   "id": "a0cab143-9157-41b3-9a42-e534f50ce6f5",
   "metadata": {},
   "outputs": [
    {
     "name": "stdout",
     "output_type": "stream",
     "text": [
      "[0.8952826639573506, 0.024708306782070668, 0.08000902926057876]\n"
     ]
    }
   ],
   "source": [
    "output_sum=np.sum(output_exp)\n",
    "\n",
    "norm_output=[]\n",
    "for i in range(len(output_exp)):\n",
    "    norm_output.append(output_exp[i]/output_sum)\n",
    "\n",
    "print(norm_output)"
   ]
  },
  {
   "cell_type": "code",
   "execution_count": 50,
   "id": "e5d01718-7e28-49ef-9fa5-57ab6fd1a9b2",
   "metadata": {},
   "outputs": [
    {
     "data": {
      "text/plain": [
       "1.0"
      ]
     },
     "execution_count": 50,
     "metadata": {},
     "output_type": "execute_result"
    }
   ],
   "source": [
    "np.sum(norm_output)   #this is the porbability distribution of numbers"
   ]
  },
  {
   "cell_type": "markdown",
   "id": "5a8fed01-2588-42dc-990f-bdd9b0879d2c",
   "metadata": {},
   "source": [
    "## all in one step of Relu"
   ]
  },
  {
   "cell_type": "code",
   "execution_count": 51,
   "id": "26398514-fbb6-4263-9aea-8068d5324b38",
   "metadata": {},
   "outputs": [
    {
     "name": "stdout",
     "output_type": "stream",
     "text": [
      "the exponentiated values:[121.51041751893969, 3.3534846525504487, 10.85906266492961].\n",
      "lets get the probability distribution from the values:[0.8952826639573506, 0.024708306782070668, 0.08000902926057876] \n",
      "lets check for summation of probability distribution:1.0 \n"
     ]
    }
   ],
   "source": [
    "layer_output=[4.8,1.21,2.385]\n",
    "\n",
    "#lets first exponentiate the values\n",
    "\n",
    "E=2.71828182846  \n",
    "output_exp=[]\n",
    "\n",
    "for i in layer_output:\n",
    "    output_exp.append(E**i)\n",
    "\n",
    "# lets divide the values with there sum\n",
    "output_sum=np.sum(output_exp)\n",
    "\n",
    "norm_output=[]\n",
    "for i in range(len(output_exp)):\n",
    "    norm_output.append(output_exp[i]/output_sum)\n",
    "\n",
    "print(f\"the exponentiated values:{output_exp}.\")\n",
    "print(f\"lets get the probability distribution from the values:{norm_output} \")\n",
    "print(f\"lets check for summation of probability distribution:{np.sum(norm_output)} \")"
   ]
  },
  {
   "cell_type": "markdown",
   "id": "ac2fbf0b-13ed-4dbe-8043-8724105a6263",
   "metadata": {},
   "source": [
    "# lets try again using numpy"
   ]
  },
  {
   "cell_type": "code",
   "execution_count": 52,
   "id": "9e54f308-95a2-4f71-a580-db340f8628ca",
   "metadata": {},
   "outputs": [
    {
     "name": "stdout",
     "output_type": "stream",
     "text": [
      "[0.89528266 0.02470831 0.08000903]\n",
      "0.9999999999999999\n"
     ]
    }
   ],
   "source": [
    "output_layer=[4.8,1.21,2.385]\n",
    "output_exp=np.exp(output_layer)\n",
    "\n",
    "prob_dist=[]\n",
    "#lets get the probability distribution the norm distribution\n",
    "prob_dist=output_exp/np.sum(output_exp)\n",
    "\n",
    "print(prob_dist)\n",
    "print(np.sum(prob_dist))"
   ]
  },
  {
   "cell_type": "markdown",
   "id": "1ca25860-535e-4024-b0ea-eb82b3d521a5",
   "metadata": {},
   "source": [
    "# layer output in batches"
   ]
  },
  {
   "cell_type": "markdown",
   "id": "77413072-ce57-4d46-a0c2-9a1da9489db2",
   "metadata": {},
   "source": [
    "## play ground"
   ]
  },
  {
   "cell_type": "code",
   "execution_count": 53,
   "id": "4f6c39b1-4ba6-4bb4-858c-cf676771ba5a",
   "metadata": {},
   "outputs": [],
   "source": [
    "p=[\n",
    "    [1,2,3,4],\n",
    "    [5,6,7,8],\n",
    "    [10,11,12,13]\n",
    "]\n",
    "\n",
    "p_a=np.array(p)"
   ]
  },
  {
   "cell_type": "markdown",
   "id": "6c55b668-2293-411e-8c18-49f2cf6ae6e6",
   "metadata": {},
   "source": [
    "# summation of rows"
   ]
  },
  {
   "cell_type": "code",
   "execution_count": 54,
   "id": "544edaf1-057e-44e9-b76f-8ae9e5871ad2",
   "metadata": {},
   "outputs": [
    {
     "data": {
      "text/plain": [
       "array([10, 26, 46])"
      ]
     },
     "execution_count": 54,
     "metadata": {},
     "output_type": "execute_result"
    }
   ],
   "source": [
    "np.sum(p,axis=1)"
   ]
  },
  {
   "cell_type": "code",
   "execution_count": 55,
   "id": "a251c2c9-1990-4101-b531-bf829aa1534e",
   "metadata": {},
   "outputs": [
    {
     "name": "stdout",
     "output_type": "stream",
     "text": [
      "10\n",
      "26\n",
      "46\n"
     ]
    }
   ],
   "source": [
    "for i in p:\n",
    "    print(sum(i))"
   ]
  },
  {
   "cell_type": "code",
   "execution_count": 56,
   "id": "212a3f9d-6dd7-4f77-b092-e43b9a1ddc0e",
   "metadata": {},
   "outputs": [
    {
     "data": {
      "text/plain": [
       "87"
      ]
     },
     "execution_count": 56,
     "metadata": {},
     "output_type": "execute_result"
    }
   ],
   "source": [
    "sum([12,32,43])"
   ]
  },
  {
   "cell_type": "markdown",
   "id": "8babd4e9-e003-46a5-8362-da4e35b941d4",
   "metadata": {},
   "source": [
    "# summation of columns"
   ]
  },
  {
   "cell_type": "code",
   "execution_count": 57,
   "id": "d944fc46-ea8f-4e0d-9e9c-66764b7b0fa5",
   "metadata": {},
   "outputs": [
    {
     "data": {
      "text/plain": [
       "array([16, 19, 22, 25])"
      ]
     },
     "execution_count": 57,
     "metadata": {},
     "output_type": "execute_result"
    }
   ],
   "source": [
    "np.sum(p,axis=0)"
   ]
  },
  {
   "cell_type": "markdown",
   "id": "51c2c739-c85f-4c4b-aeb4-3d4e944f164f",
   "metadata": {},
   "source": [
    "### the implementation of summing along columns"
   ]
  },
  {
   "cell_type": "code",
   "execution_count": 58,
   "id": "7033da40-1bc5-49e0-b6e5-01b9c5fe2204",
   "metadata": {},
   "outputs": [],
   "source": [
    "summ=[]\n",
    "for i in p_a.T:\n",
    "    summ.append(sum(i.T))"
   ]
  },
  {
   "cell_type": "code",
   "execution_count": 59,
   "id": "2df3e884-0ce4-4304-9929-96b132a3f396",
   "metadata": {},
   "outputs": [
    {
     "data": {
      "text/plain": [
       "[16, 19, 22, 25]"
      ]
     },
     "execution_count": 59,
     "metadata": {},
     "output_type": "execute_result"
    }
   ],
   "source": [
    "summ"
   ]
  },
  {
   "cell_type": "code",
   "execution_count": 60,
   "id": "1eb207a8-8f71-462c-8e7c-3faf0b136d0f",
   "metadata": {},
   "outputs": [
    {
     "data": {
      "text/plain": [
       "array([[10],\n",
       "       [26],\n",
       "       [46]])"
      ]
     },
     "execution_count": 60,
     "metadata": {},
     "output_type": "execute_result"
    }
   ],
   "source": [
    "np.sum(p_a,axis=1,keepdims=True)"
   ]
  },
  {
   "cell_type": "code",
   "execution_count": 61,
   "id": "c90083d3-4063-40bc-bb16-213a2da77366",
   "metadata": {},
   "outputs": [],
   "source": [
    "layer_outputs = np.array([[4.8, 1.21, 2.385],\n",
    "                            [8.9, -1.81, 0.2],\n",
    "                            [1.41, 1.051, 0.026]])\n",
    "\n",
    "summation=np.sum(layer_outputs,axis=1,keepdims=True)"
   ]
  },
  {
   "cell_type": "code",
   "execution_count": 62,
   "id": "71b8d30d-a47a-4ced-82aa-b6b0ec311bf2",
   "metadata": {},
   "outputs": [
    {
     "data": {
      "text/plain": [
       "((3, 1), (3, 3))"
      ]
     },
     "execution_count": 62,
     "metadata": {},
     "output_type": "execute_result"
    }
   ],
   "source": [
    "summation.shape,layer_outputs.shape"
   ]
  },
  {
   "cell_type": "code",
   "execution_count": 63,
   "id": "8ab4e8a9-a5da-429f-8882-e70522278a95",
   "metadata": {},
   "outputs": [],
   "source": [
    "temp=np.sum(layer_outputs,axis=1)"
   ]
  },
  {
   "cell_type": "markdown",
   "id": "211bbe85-d074-476b-9238-1d464eb4ac99",
   "metadata": {},
   "source": [
    "# lets implement the SOFTMAX"
   ]
  },
  {
   "cell_type": "markdown",
   "id": "960cda0e-d5af-43ac-ac81-bc706a1650ed",
   "metadata": {},
   "source": [
    "### sample of exploading value of Softmax"
   ]
  },
  {
   "cell_type": "code",
   "execution_count": 64,
   "id": "b98c7795-27f7-46c3-afc9-243108b0db59",
   "metadata": {},
   "outputs": [
    {
     "data": {
      "text/plain": [
       "7.225973768125749e+86"
      ]
     },
     "execution_count": 64,
     "metadata": {},
     "output_type": "execute_result"
    }
   ],
   "source": [
    "np.exp(200)"
   ]
  },
  {
   "cell_type": "code",
   "execution_count": 65,
   "id": "b784d7d6-ebcc-485c-be9f-70091d20aa60",
   "metadata": {},
   "outputs": [
    {
     "data": {
      "text/plain": [
       "22026.465794806718"
      ]
     },
     "execution_count": 65,
     "metadata": {},
     "output_type": "execute_result"
    }
   ],
   "source": [
    "np.exp(10)"
   ]
  },
  {
   "cell_type": "code",
   "execution_count": 66,
   "id": "98e10dd5-6227-44df-94f9-d032d2a84bd6",
   "metadata": {},
   "outputs": [
    {
     "name": "stdout",
     "output_type": "stream",
     "text": [
      "inf\n"
     ]
    },
    {
     "name": "stderr",
     "output_type": "stream",
     "text": [
      "C:\\Users\\nebiy\\AppData\\Local\\Temp\\ipykernel_4768\\2528843860.py:1: RuntimeWarning: overflow encountered in exp\n",
      "  print(np.exp(1000))\n"
     ]
    }
   ],
   "source": [
    "print(np.exp(1000))"
   ]
  },
  {
   "cell_type": "markdown",
   "id": "8e36756a-0564-4119-8311-655b3090d3c7",
   "metadata": {},
   "source": [
    "## implementation time"
   ]
  },
  {
   "cell_type": "code",
   "execution_count": 67,
   "id": "7271dbd3-744d-4414-acdb-381b3f79bbbf",
   "metadata": {},
   "outputs": [
    {
     "data": {
      "text/plain": [
       "array([ 4,  8, 13])"
      ]
     },
     "execution_count": 67,
     "metadata": {},
     "output_type": "execute_result"
    }
   ],
   "source": [
    "np.max(p_a,axis=1)"
   ]
  },
  {
   "cell_type": "code",
   "execution_count": 68,
   "id": "82354a7d-dc63-44a4-a6c6-ae0b7544bd67",
   "metadata": {},
   "outputs": [],
   "source": [
    "class Softmax:\n",
    "    def forward(self,inputs):\n",
    "        #we are scaling the value\n",
    "        self.scaled=np.exp(inputs - np.max(inputs,axis=1,keepdims=True))\n",
    "        #lets get probability distribution\n",
    "        self.outputs=self.scaled/np.sum(self.scaled,axis=1,keepdims=True)\n",
    "        return self.outputs"
   ]
  },
  {
   "cell_type": "code",
   "execution_count": 69,
   "id": "728691a7-7f5d-44bc-bc7f-f3ca75a7531d",
   "metadata": {},
   "outputs": [
    {
     "name": "stdout",
     "output_type": "stream",
     "text": [
      "[[1.00000000e+00 2.75983304e-02 8.93673389e-02]\n",
      " [1.00000000e+00 2.23206120e-05 1.66585811e-04]\n",
      " [1.00000000e+00 6.98374351e-01 2.50574249e-01]]\n",
      "\n",
      "[[8.95282664e-01 2.47083068e-02 8.00090293e-02]\n",
      " [9.99811129e-01 2.23163963e-05 1.66554348e-04]\n",
      " [5.13097164e-01 3.58333899e-01 1.28568936e-01]]\n",
      "\n",
      "[1. 1. 1.]\n"
     ]
    }
   ],
   "source": [
    "act_soft=Softmax()\n",
    "act_soft.forward(layer_outputs)\n",
    "print(act_soft.scaled)\n",
    "print()\n",
    "print(act_soft.outputs)\n",
    "print()\n",
    "print(np.sum(act_soft.outputs,axis=1))"
   ]
  },
  {
   "cell_type": "code",
   "execution_count": 70,
   "id": "4a1576ea-120b-446d-b89e-a4600da760be",
   "metadata": {},
   "outputs": [
    {
     "name": "stdout",
     "output_type": "stream",
     "text": [
      "[[0.09003057 0.24472847 0.66524096]]\n"
     ]
    }
   ],
   "source": [
    "# lets try on one dim\n",
    "a=[1,2,3]\n",
    "act_2=Softmax()\n",
    "act_2.forward([a])\n",
    "print(act_2.outputs)"
   ]
  },
  {
   "cell_type": "code",
   "execution_count": 71,
   "id": "af132c11-e1fa-4f56-966b-667a11aa22f2",
   "metadata": {},
   "outputs": [
    {
     "data": {
      "text/plain": [
       "array([[0.13533528, 0.36787944, 1.        ]])"
      ]
     },
     "execution_count": 71,
     "metadata": {},
     "output_type": "execute_result"
    }
   ],
   "source": [
    "act_2.scaled"
   ]
  },
  {
   "cell_type": "code",
   "execution_count": 72,
   "id": "8a573885-a3d1-4685-a4f1-dba25a0d27e2",
   "metadata": {},
   "outputs": [
    {
     "name": "stdout",
     "output_type": "stream",
     "text": [
      "[[0.09003057 0.24472847 0.66524096]]\n"
     ]
    }
   ],
   "source": [
    "act_2.forward([[-2,-1,0]])\n",
    "print(act_2.outputs)"
   ]
  },
  {
   "cell_type": "markdown",
   "id": "bd49ec1b-9008-452a-9cdf-d195cb05d597",
   "metadata": {},
   "source": [
    "# lets put it all together and make a some deep neural network"
   ]
  },
  {
   "cell_type": "code",
   "execution_count": 73,
   "id": "f93d3630-81f6-4421-9c3a-b685fd8fdd1d",
   "metadata": {},
   "outputs": [],
   "source": [
    "#lets get our input that has 3 classes and 2 input features\n",
    "x,y=spiral_data(samples=1000,classes=3)\n",
    "\n",
    "#lets first hiddden layer \n",
    "dense1=Dense(2,3)\n",
    "\n",
    "#lets use relu for hidden layer\n",
    "act1=Activation_ReLU()\n",
    "\n",
    "#the last layer hidden network\n",
    "dense2=Dense(3,3)\n",
    "\n",
    "#lets use softmax as the head of the deep neural network\n",
    "act2=Softmax()"
   ]
  },
  {
   "cell_type": "code",
   "execution_count": 74,
   "id": "1afd7246-6ce5-4dd0-ae75-5d78705ec2c6",
   "metadata": {},
   "outputs": [
    {
     "name": "stdout",
     "output_type": "stream",
     "text": [
      "[[0.33333333 0.33333333 0.33333333]\n",
      " [0.33333334 0.33333333 0.33333334]\n",
      " [0.33333332 0.3333333  0.33333338]\n",
      " [0.33333333 0.33333331 0.33333335]\n",
      " [0.33333338 0.33333337 0.33333325]\n",
      " [0.3333333  0.33333327 0.33333343]\n",
      " [0.33333342 0.3333334  0.33333318]\n",
      " [0.33333343 0.33333341 0.33333316]\n",
      " [0.33333332 0.33333326 0.33333342]\n",
      " [0.33333333 0.33333327 0.3333334 ]]\n"
     ]
    }
   ],
   "source": [
    "# lets train it\n",
    "dense1.forward(x)\n",
    "\n",
    "#pass it through activation function\n",
    "act1.forward(dense1.outputs)\n",
    "\n",
    "#lets give pass it through our last layer\n",
    "dense2.forward(act1.output)\n",
    "\n",
    "#throug our softmax layer\n",
    "act2.forward(dense2.outputs)\n",
    "\n",
    "print(act2.outputs[:10])"
   ]
  },
  {
   "cell_type": "code",
   "execution_count": null,
   "id": "1e6ea3ae-929c-4df2-a09c-b02137a3bb0a",
   "metadata": {},
   "outputs": [],
   "source": []
  }
 ],
 "metadata": {
  "kernelspec": {
   "display_name": "Python 3 (ipykernel)",
   "language": "python",
   "name": "python3"
  },
  "language_info": {
   "codemirror_mode": {
    "name": "ipython",
    "version": 3
   },
   "file_extension": ".py",
   "mimetype": "text/x-python",
   "name": "python",
   "nbconvert_exporter": "python",
   "pygments_lexer": "ipython3",
   "version": "3.8.18"
  }
 },
 "nbformat": 4,
 "nbformat_minor": 5
}
